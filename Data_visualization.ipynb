{
 "cells": [
  {
   "cell_type": "code",
   "execution_count": 1,
   "metadata": {},
   "outputs": [],
   "source": [
    "import matplotlib.pyplot as plt\n",
    "from matplotlib import cm\n",
    "import numpy as np\n",
    "%matplotlib inline\n",
    "import pandas as pd\n",
    "import seaborn as sns\n",
    "import os\n",
    "from scipy.signal import argrelextrema\n",
    "from scipy import integrate as intg\n",
    "from scipy.misc import derivative\n",
    "\n"
   ]
  },
  {
   "cell_type": "code",
   "execution_count": 2,
   "metadata": {},
   "outputs": [
    {
     "name": "stdout",
     "output_type": "stream",
     "text": [
      "dataset_example_ITA/Time_series\\Simulation_1.csv\n",
      "dataset_example_ITA/Time_series\\Simulation_2.csv\n"
     ]
    }
   ],
   "source": [
    "import glob\n",
    "data_array=[]\n",
    "\n",
    "for ifile in glob.iglob('dataset_example_ITA/Time_series/Simulation_*.csv'):\n",
    "    print(ifile)\n",
    "    df = pd.read_csv(ifile)\n",
    "    df.drop(columns=df.columns[0], axis=1,  inplace=True)\n",
    "\n",
    "  #  df = df.drop('Time', axis=1)\n",
    "    \n",
    "    data_array.append(df)"
   ]
  },
  {
   "cell_type": "code",
   "execution_count": 3,
   "metadata": {},
   "outputs": [
    {
     "data": {
      "text/html": [
       "<div>\n",
       "<style scoped>\n",
       "    .dataframe tbody tr th:only-of-type {\n",
       "        vertical-align: middle;\n",
       "    }\n",
       "\n",
       "    .dataframe tbody tr th {\n",
       "        vertical-align: top;\n",
       "    }\n",
       "\n",
       "    .dataframe thead th {\n",
       "        text-align: right;\n",
       "    }\n",
       "</style>\n",
       "<table border=\"1\" class=\"dataframe\">\n",
       "  <thead>\n",
       "    <tr style=\"text-align: right;\">\n",
       "      <th></th>\n",
       "      <th>Simulation_ID</th>\n",
       "      <th>Dmg_coord_x</th>\n",
       "      <th>Dmg_coord_y</th>\n",
       "      <th>Dmg_coord_z</th>\n",
       "      <th>Dmg_size</th>\n",
       "      <th>Dmg_orient_x</th>\n",
       "      <th>Dmg_orient_y</th>\n",
       "      <th>Dmg_orient_z</th>\n",
       "      <th>Dmg_type</th>\n",
       "    </tr>\n",
       "  </thead>\n",
       "  <tbody>\n",
       "    <tr>\n",
       "      <th>0</th>\n",
       "      <td>1</td>\n",
       "      <td>0</td>\n",
       "      <td>0.35</td>\n",
       "      <td>0</td>\n",
       "      <td>0.00</td>\n",
       "      <td>0</td>\n",
       "      <td>0</td>\n",
       "      <td>0</td>\n",
       "      <td>delamination</td>\n",
       "    </tr>\n",
       "    <tr>\n",
       "      <th>1</th>\n",
       "      <td>2</td>\n",
       "      <td>0</td>\n",
       "      <td>0.35</td>\n",
       "      <td>0</td>\n",
       "      <td>0.15</td>\n",
       "      <td>0</td>\n",
       "      <td>0</td>\n",
       "      <td>0</td>\n",
       "      <td>delamination</td>\n",
       "    </tr>\n",
       "  </tbody>\n",
       "</table>\n",
       "</div>"
      ],
      "text/plain": [
       "   Simulation_ID  Dmg_coord_x  Dmg_coord_y  Dmg_coord_z  Dmg_size  \\\n",
       "0              1            0         0.35            0      0.00   \n",
       "1              2            0         0.35            0      0.15   \n",
       "\n",
       "   Dmg_orient_x  Dmg_orient_y  Dmg_orient_z      Dmg_type  \n",
       "0             0             0             0  delamination  \n",
       "1             0             0             0  delamination  "
      ]
     },
     "execution_count": 3,
     "metadata": {},
     "output_type": "execute_result"
    }
   ],
   "source": [
    "df_dmg_sim = pd.read_csv('dataset_example_ITA/Damage_simulations.csv')\n",
    "df_dmg_sim"
   ]
  },
  {
   "cell_type": "code",
   "execution_count": 4,
   "metadata": {},
   "outputs": [],
   "source": [
    "dmg_x           = df_dmg_sim.iloc[:,1]\n",
    "dmg_y           = df_dmg_sim.iloc[:,2]\n",
    "dmg_z           = df_dmg_sim.iloc[:,3]\n",
    "dmg_size        = df_dmg_sim.iloc[:,4]\n",
    "dmg_orient_x    = df_dmg_sim.iloc[:,5]\n",
    "dmg_orient_y    = df_dmg_sim.iloc[:,6]\n",
    "dmg_orient_z    = df_dmg_sim.iloc[:,7]\n",
    "dmg_orient_type = df_dmg_sim.iloc[:,8]\n",
    "\n",
    "\n",
    "\n"
   ]
  },
  {
   "cell_type": "code",
   "execution_count": 5,
   "metadata": {},
   "outputs": [
    {
     "data": {
      "text/html": [
       "<div>\n",
       "<style scoped>\n",
       "    .dataframe tbody tr th:only-of-type {\n",
       "        vertical-align: middle;\n",
       "    }\n",
       "\n",
       "    .dataframe tbody tr th {\n",
       "        vertical-align: top;\n",
       "    }\n",
       "\n",
       "    .dataframe thead th {\n",
       "        text-align: right;\n",
       "    }\n",
       "</style>\n",
       "<table border=\"1\" class=\"dataframe\">\n",
       "  <thead>\n",
       "    <tr style=\"text-align: right;\">\n",
       "      <th></th>\n",
       "      <th>Sensor_ID</th>\n",
       "      <th>X</th>\n",
       "      <th>Y</th>\n",
       "      <th>Z</th>\n",
       "    </tr>\n",
       "  </thead>\n",
       "  <tbody>\n",
       "    <tr>\n",
       "      <th>0</th>\n",
       "      <td>Sensor_1</td>\n",
       "      <td>0</td>\n",
       "      <td>0.1</td>\n",
       "      <td>0.005</td>\n",
       "    </tr>\n",
       "    <tr>\n",
       "      <th>1</th>\n",
       "      <td>Sensor_2</td>\n",
       "      <td>0</td>\n",
       "      <td>0.6</td>\n",
       "      <td>0.005</td>\n",
       "    </tr>\n",
       "    <tr>\n",
       "      <th>2</th>\n",
       "      <td>Sensor_3</td>\n",
       "      <td>0</td>\n",
       "      <td>0.1</td>\n",
       "      <td>-0.010</td>\n",
       "    </tr>\n",
       "    <tr>\n",
       "      <th>3</th>\n",
       "      <td>Sensor_4</td>\n",
       "      <td>0</td>\n",
       "      <td>0.6</td>\n",
       "      <td>-0.010</td>\n",
       "    </tr>\n",
       "  </tbody>\n",
       "</table>\n",
       "</div>"
      ],
      "text/plain": [
       "  Sensor_ID  X    Y      Z\n",
       "0  Sensor_1  0  0.1  0.005\n",
       "1  Sensor_2  0  0.6  0.005\n",
       "2  Sensor_3  0  0.1 -0.010\n",
       "3  Sensor_4  0  0.6 -0.010"
      ]
     },
     "execution_count": 5,
     "metadata": {},
     "output_type": "execute_result"
    }
   ],
   "source": [
    "df_sensor_loc = pd.read_csv('dataset_example_ITA/Sensor_locations.csv')\n",
    "df_sensor_loc"
   ]
  },
  {
   "cell_type": "code",
   "execution_count": 6,
   "metadata": {},
   "outputs": [
    {
     "data": {
      "text/plain": [
       "([0, 0.1, 0.005], [0, 0.6, 0.005], [0, 0.1, -0.01], [0, 0.6, -0.01])"
      ]
     },
     "execution_count": 6,
     "metadata": {},
     "output_type": "execute_result"
    }
   ],
   "source": [
    "sensor_1 = []\n",
    "sensor_2 = []\n",
    "sensor_3 = []\n",
    "sensor_4 = []\n",
    "\n",
    "sensor_1.append(df_sensor_loc.at[0, 'X'])\n",
    "sensor_1.append(df_sensor_loc.at[0, 'Y'])\n",
    "sensor_1.append(df_sensor_loc.at[0, 'Z'])\n",
    "\n",
    "sensor_2.append(df_sensor_loc.at[1, 'X'])\n",
    "sensor_2.append(df_sensor_loc.at[1, 'Y'])\n",
    "sensor_2.append(df_sensor_loc.at[1, 'Z'])\n",
    "\n",
    "sensor_3.append(df_sensor_loc.at[2, 'X'])\n",
    "sensor_3.append(df_sensor_loc.at[2, 'Y'])\n",
    "sensor_3.append(df_sensor_loc.at[2, 'Z'])\n",
    "\n",
    "sensor_4.append(df_sensor_loc.at[3, 'X'])\n",
    "sensor_4.append(df_sensor_loc.at[3, 'Y'])\n",
    "sensor_4.append(df_sensor_loc.at[3, 'Z'])\n",
    "\n",
    "sensor_1, sensor_2, sensor_3,sensor_4"
   ]
  },
  {
   "cell_type": "code",
   "execution_count": 7,
   "metadata": {},
   "outputs": [],
   "source": [
    "time = []\n",
    "sensors = []\n",
    "\n",
    "for df in data_array:\n",
    "    time.append(df.iloc[:,0].values)\n",
    "    sensors_df = []\n",
    "\n",
    "    for i in range(1, 5):\n",
    "        sensors_df.append(df.iloc[:,i])\n",
    "\n",
    "    sensors.append(sensors_df)\n",
    "\n",
    "\n"
   ]
  },
  {
   "cell_type": "code",
   "execution_count": 8,
   "metadata": {},
   "outputs": [
    {
     "name": "stdout",
     "output_type": "stream",
     "text": [
      "(2, 4, 501)\n",
      "4\n"
     ]
    }
   ],
   "source": [
    "print(np.shape(sensors))\n",
    "print(len(sensors[0]))"
   ]
  },
  {
   "cell_type": "code",
   "execution_count": 9,
   "metadata": {},
   "outputs": [],
   "source": [
    "def rebin_arrays(x, y , bins):\n",
    "\n",
    "    x_binned = []\n",
    "    y_binned = []\n",
    "\n",
    "    for i in range(0, bins):\n",
    "    \n",
    "        step = int(len(y)/bins)\n",
    "        #print(step)\n",
    "        y_mean = 0\n",
    "        x_mean = 0\n",
    "        for k in range(i*step, step*(i+1)):\n",
    "            y_mean = y_mean + y[k]\n",
    "            x_mean = x_mean + x[k]\n",
    "\n",
    "        y_binned.append(y_mean/step)\n",
    "        x_binned.append(x_mean/step)\n",
    "\n",
    "    return np.array(x_binned), np.array(y_binned)"
   ]
  },
  {
   "cell_type": "code",
   "execution_count": 10,
   "metadata": {},
   "outputs": [],
   "source": [
    "def multiplyList( listOfnumbers, multiplier ):\n",
    "    output_list = []\n",
    "    for i in range(0,len(listOfnumbers)):\n",
    "        output_list.append(listOfnumbers[i]*multiplier)\n",
    "\n",
    "    return output_list"
   ]
  },
  {
   "cell_type": "code",
   "execution_count": 72,
   "metadata": {},
   "outputs": [
    {
     "data": {
      "text/plain": [
       "list"
      ]
     },
     "execution_count": 72,
     "metadata": {},
     "output_type": "execute_result"
    }
   ],
   "source": [
    "type(time)"
   ]
  },
  {
   "cell_type": "code",
   "execution_count": 11,
   "metadata": {},
   "outputs": [],
   "source": [
    "time = multiplyList(time, 1000)\n"
   ]
  },
  {
   "attachments": {},
   "cell_type": "markdown",
   "metadata": {},
   "source": [
    "#Draw the signal outputs"
   ]
  },
  {
   "cell_type": "code",
   "execution_count": 17,
   "metadata": {},
   "outputs": [
    {
     "data": {
      "image/png": "[encoded data removed]",
      "text/plain": [
       "<Figure size 432x288 with 1 Axes>"
      ]
     },
     "metadata": {
      "needs_background": "light"
     },
     "output_type": "display_data"
    }
   ],
   "source": [
    "sim_ID = 0 #simulation_ID\n",
    "fig, ax1 = plt.subplots() \n",
    "  \n",
    "ax1.set_xlabel('time (ms)') \n",
    "ax1.set_ylabel('Sensor output') \n",
    "#plt.yscale('log')\n",
    "ax1.set_ylim(-0.1, 0.1)\n",
    "#ax1.set_xlim(0, 0.05)\n",
    "#ax1.set_xlim(0, 0.0001)\n",
    "\n",
    "plt.plot(time[sim_ID], sensors[sim_ID][0], color = 'red' ,      label='sensor 0') \n",
    "plt.plot(time[sim_ID], sensors[sim_ID][1], color = 'blue' ,     label='sensor 1') \n",
    "plt.plot(time[sim_ID], sensors[sim_ID][2], color = 'green' ,    label='sensor 2') \n",
    "plt.plot(time[sim_ID], sensors[sim_ID][3], color = 'brown' ,    label='sensor 3') \n",
    "\n",
    "plt.legend()\n",
    "plt.savefig('dataset_example_ITA/plots/Sensor_output_simID_0_zoom.png')"
   ]
  },
  {
   "attachments": {},
   "cell_type": "markdown",
   "metadata": {},
   "source": [
    "Draw the sensor and the simulated dmg location"
   ]
  },
  {
   "cell_type": "code",
   "execution_count": 19,
   "metadata": {},
   "outputs": [
    {
     "data": {
      "image/png": "[encoded data removed]",
      "text/plain": [
       "<Figure size 432x288 with 1 Axes>"
      ]
     },
     "metadata": {
      "needs_background": "light"
     },
     "output_type": "display_data"
    }
   ],
   "source": [
    "sim_ID = 0 #simulation_ID\n",
    "\n",
    "fig, ax1 = plt.subplots() \n",
    "\n",
    "ax1.set_xlabel('y') \n",
    "ax1.set_ylabel('z') \n",
    "plt.title('Sensor & damage locations')\n",
    "#plt.yscale('log')\n",
    "#ax1.set_ylim(0.00001, 15)\n",
    "ax1.set_xlim(-0.1, 1)\n",
    "ax1.set_ylim(-0.05, 0.05)\n",
    "plt.scatter(sensor_1[1], sensor_1[2], color=\"green\"   , label='Sensor_1', marker = \"+\",s=100) # plotting single point\n",
    "plt.scatter(sensor_2[1], sensor_2[2], color=\"blue\"  , label='Sensor_2', marker = \"+\",s=100) # plotting single point\n",
    "plt.scatter(sensor_3[1], sensor_3[2], color=\"purple\", label='Sensor_3', marker = \"+\",s=100) # plotting single point\n",
    "plt.scatter(sensor_4[1], sensor_4[2], color=\"pink\"  , label='Sensor_4', marker = \"+\",s=100) # plotting single point\n",
    "plt.scatter(dmg_y[sim_ID], dmg_z[sim_ID], color=\"red\"  , label='Damage', marker = \"*\",s=100) # plotting single point\n",
    "\n",
    "plt.legend()\n",
    "plt.savefig('dataset_example_ITA/plots/Sensor_and_damage_locations.png')"
   ]
  },
  {
   "cell_type": "code",
   "execution_count": 145,
   "metadata": {},
   "outputs": [
    {
     "data": {
      "text/plain": [
       "501"
      ]
     },
     "execution_count": 145,
     "metadata": {},
     "output_type": "execute_result"
    }
   ],
   "source": [
    "len(time[0])"
   ]
  },
  {
   "attachments": {},
   "cell_type": "markdown",
   "metadata": {},
   "source": [
    "#https://towardsdatascience.com/feature-engineering-on-time-series-data-transforming-signal-data-of-a-smartphone-accelerometer-for-72cbe34b8a60"
   ]
  },
  {
   "attachments": {},
   "cell_type": "markdown",
   "metadata": {},
   "source": [
    "Take the FFT (FAST FOURIE transform of the signals. Apply feature extraction on the FFT's.)"
   ]
  },
  {
   "cell_type": "code",
   "execution_count": 29,
   "metadata": {},
   "outputs": [],
   "source": [
    "from scipy.fft import fft, fftfreq\n",
    "\n",
    "def get_FFT_transform( input, duration, N_points ):\n",
    "\n",
    "    sample_rate = float(N_points / duration)\n",
    "\n",
    "    yf = fft(input) # this is a complex number. We plot its absolute value (length).\n",
    "    xf = fftfreq(N_points, 1 / sample_rate)\n",
    "\n",
    "    #now we sort xf in increasing order and apply the same ordering on yf.\n",
    "    sorted_xf = np.sort(xf)\n",
    "    #np.argsort(xf)\n",
    "    sorted_yf = yf[np.argsort(xf)]\n",
    "\n",
    "    return sorted_xf, sorted_yf\n"
   ]
  },
  {
   "cell_type": "code",
   "execution_count": 30,
   "metadata": {},
   "outputs": [],
   "source": [
    "duration = time[0][len(time[0])-1]-time[0][0]\n",
    "N_points = len(time[0])"
   ]
  },
  {
   "cell_type": "code",
   "execution_count": 46,
   "metadata": {},
   "outputs": [
    {
     "data": {
      "image/png": "[encoded data removed]",
      "text/plain": [
       "<Figure size 432x288 with 1 Axes>"
      ]
     },
     "metadata": {
      "needs_background": "light"
     },
     "output_type": "display_data"
    },
    {
     "data": {
      "text/plain": [
       "<Figure size 432x288 with 0 Axes>"
      ]
     },
     "metadata": {},
     "output_type": "display_data"
    }
   ],
   "source": [
    "sim_ID = 0 #simulation_ID\n",
    "Sensor_number = 2 \n",
    "\n",
    "\n",
    "xf_1, yf_1 = get_FFT_transform(np.array(sensors[sim_ID][0]), duration, N_points )\n",
    "xf_2, yf_2 = get_FFT_transform(np.array(sensors[sim_ID][1]), duration, N_points )\n",
    "xf_3, yf_3 = get_FFT_transform(np.array(sensors[sim_ID][2]), duration, N_points )\n",
    "xf_4, yf_4 = get_FFT_transform(np.array(sensors[sim_ID][3]), duration, N_points )\n",
    "\n",
    "\n",
    "fig, ax1 = plt.subplots() \n",
    "  \n",
    "ax1.set_xlabel('frequences') \n",
    "ax1.set_ylabel('Amplitude') \n",
    "#plt.yscale('log')\n",
    "ax1.set_xlim(-600, 600)\n",
    "#ax1.set_ylim(0.00005, 1000) #for logscale\n",
    "ax1.set_ylim(0, 6) \n",
    "\n",
    "plt.title('FFT of sensor signals')\n",
    "plt.scatter(xf_1, np.abs(yf_1),marker='o', s=10,label='sensor 1')\n",
    "plt.scatter(xf_2, np.abs(yf_2),marker='o', s=10, label='sensor 2')\n",
    "plt.scatter(xf_3, np.abs(yf_3),marker='o', s=10, label='sensor 3')\n",
    "plt.scatter(xf_4, np.abs(yf_4),marker='o', s=10, label='sensor 4')\n",
    "\n",
    "plt.legend()\n",
    "\n",
    "plt.show()\n",
    "#plt.savefig('dataset_example_ITA/plots/Sensor_signal_FFT_logscale.png')\n",
    "plt.savefig('dataset_example_ITA/plots/Sensor_signal_FFT.png')\n",
    "\n"
   ]
  },
  {
   "attachments": {},
   "cell_type": "markdown",
   "metadata": {},
   "source": [
    "#Rebinning of FFT transformations. Could lead to loss of information"
   ]
  },
  {
   "cell_type": "code",
   "execution_count": 53,
   "metadata": {},
   "outputs": [
    {
     "data": {
      "image/png": "[encoded data removed]",
      "text/plain": [
       "<Figure size 432x288 with 1 Axes>"
      ]
     },
     "metadata": {
      "needs_background": "light"
     },
     "output_type": "display_data"
    }
   ],
   "source": [
    "rebinned_xf_1, rebinned_yf_1 = rebin_arrays(xf_1, np.abs(yf_1),100)\n",
    "#plt.scatter(rebinned_xf, rebinned_yf,marker='o', s=10)\n",
    "#plt.plot(sorted_xf, np.abs(sorted_yf), color='red')\n",
    "fig, ax1 = plt.subplots() \n",
    "\n",
    "ax1.set_xlabel('frequences') \n",
    "ax1.set_ylabel('Amplitude') \n",
    "plt.scatter(xf_1, np.abs(yf_1) ,marker='*', color='red', s=10, label= 'raw')\n",
    "plt.plot(rebinned_xf_1, rebinned_yf_1, color='blue', label = 'rebinned' )\n",
    "plt.title('Rebinning of FFT signals')\n",
    "plt.text(-1000, 100, 'Sensor 1', fontsize = 14)\n",
    "plt.legend()\n",
    "plt.savefig('dataset_example_ITA/plots/Rebin_FFT_sensor_1.png')\n",
    "\n",
    "\n"
   ]
  }
 ],
 "metadata": {
  "kernelspec": {
   "display_name": "imPure",
   "language": "python",
   "name": "python3"
  },
  "language_info": {
   "codemirror_mode": {
    "name": "ipython",
    "version": 3
   },
   "file_extension": ".py",
   "mimetype": "text/x-python",
   "name": "python",
   "nbconvert_exporter": "python",
   "pygments_lexer": "ipython3",
   "version": "3.9.0"
  },
  "orig_nbformat": 4,
  "vscode": {
   "interpreter": {
    "hash": "a02ca117b21243f7b5594d25e73aec08b47b152a0cc20a913419a0ac0449b5fd"
   }
  }
 },
 "nbformat": 4,
 "nbformat_minor": 2
}
