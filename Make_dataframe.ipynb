{
 "cells": [
  {
   "cell_type": "code",
   "execution_count": 36,
   "metadata": {},
   "outputs": [],
   "source": [
    "import matplotlib.pyplot as plt\n",
    "from matplotlib import cm\n",
    "import numpy as np\n",
    "%matplotlib inline\n",
    "import pandas as pd\n",
    "import seaborn as sns\n",
    "import os\n",
    "from scipy.signal import argrelextrema\n",
    "from scipy import integrate as intg\n",
    "from scipy.misc import derivative\n",
    "from scipy.fft import fft, fftfreq\n",
    "from scipy.signal import find_peaks\n",
    "from scipy import stats\n",
    "import glob\n",
    "\n"
   ]
  },
  {
   "cell_type": "code",
   "execution_count": 2,
   "metadata": {},
   "outputs": [
    {
     "name": "stdout",
     "output_type": "stream",
     "text": [
      "dataset_example_ITA/Time_series\\Simulation_1.csv\n",
      "dataset_example_ITA/Time_series\\Simulation_2.csv\n"
     ]
    }
   ],
   "source": [
    "data_array=[]\n",
    "\n",
    "for ifile in glob.iglob('dataset_example_ITA/Time_series/Simulation_*.csv'):\n",
    "    print(ifile)\n",
    "    df = pd.read_csv(ifile)\n",
    "    df.drop(columns=df.columns[0], axis=1,  inplace=True)\n",
    "\n",
    "  #  df = df.drop('Time', axis=1)\n",
    "    \n",
    "    data_array.append(df)"
   ]
  },
  {
   "cell_type": "code",
   "execution_count": 3,
   "metadata": {},
   "outputs": [
    {
     "data": {
      "text/html": [
       "<div>\n",
       "<style scoped>\n",
       "    .dataframe tbody tr th:only-of-type {\n",
       "        vertical-align: middle;\n",
       "    }\n",
       "\n",
       "    .dataframe tbody tr th {\n",
       "        vertical-align: top;\n",
       "    }\n",
       "\n",
       "    .dataframe thead th {\n",
       "        text-align: right;\n",
       "    }\n",
       "</style>\n",
       "<table border=\"1\" class=\"dataframe\">\n",
       "  <thead>\n",
       "    <tr style=\"text-align: right;\">\n",
       "      <th></th>\n",
       "      <th>Simulation_ID</th>\n",
       "      <th>Dmg_coord_x</th>\n",
       "      <th>Dmg_coord_y</th>\n",
       "      <th>Dmg_coord_z</th>\n",
       "      <th>Dmg_size</th>\n",
       "      <th>Dmg_orient_x</th>\n",
       "      <th>Dmg_orient_y</th>\n",
       "      <th>Dmg_orient_z</th>\n",
       "      <th>Dmg_type</th>\n",
       "    </tr>\n",
       "  </thead>\n",
       "  <tbody>\n",
       "    <tr>\n",
       "      <th>0</th>\n",
       "      <td>1</td>\n",
       "      <td>0</td>\n",
       "      <td>0.35</td>\n",
       "      <td>0</td>\n",
       "      <td>0.00</td>\n",
       "      <td>0</td>\n",
       "      <td>0</td>\n",
       "      <td>0</td>\n",
       "      <td>delamination</td>\n",
       "    </tr>\n",
       "    <tr>\n",
       "      <th>1</th>\n",
       "      <td>2</td>\n",
       "      <td>0</td>\n",
       "      <td>0.35</td>\n",
       "      <td>0</td>\n",
       "      <td>0.15</td>\n",
       "      <td>0</td>\n",
       "      <td>0</td>\n",
       "      <td>0</td>\n",
       "      <td>delamination</td>\n",
       "    </tr>\n",
       "  </tbody>\n",
       "</table>\n",
       "</div>"
      ],
      "text/plain": [
       "   Simulation_ID  Dmg_coord_x  Dmg_coord_y  Dmg_coord_z  Dmg_size  \\\n",
       "0              1            0         0.35            0      0.00   \n",
       "1              2            0         0.35            0      0.15   \n",
       "\n",
       "   Dmg_orient_x  Dmg_orient_y  Dmg_orient_z      Dmg_type  \n",
       "0             0             0             0  delamination  \n",
       "1             0             0             0  delamination  "
      ]
     },
     "execution_count": 3,
     "metadata": {},
     "output_type": "execute_result"
    }
   ],
   "source": [
    "df_dmg_sim = pd.read_csv('dataset_example_ITA/Damage_simulations.csv')\n",
    "df_dmg_sim"
   ]
  },
  {
   "cell_type": "code",
   "execution_count": 4,
   "metadata": {},
   "outputs": [],
   "source": [
    "time = []\n",
    "sensors = []\n",
    "\n",
    "for df in data_array:\n",
    "    time.append(df.iloc[:,0].values)\n",
    "    sensors_df = []\n",
    "\n",
    "    for i in range(1, 5):\n",
    "        sensors_df.append(df.iloc[:,i])\n",
    "\n",
    "    sensors.append(sensors_df)"
   ]
  },
  {
   "cell_type": "code",
   "execution_count": 32,
   "metadata": {},
   "outputs": [
    {
     "data": {
      "text/plain": [
       "501"
      ]
     },
     "execution_count": 32,
     "metadata": {},
     "output_type": "execute_result"
    }
   ],
   "source": [
    "np.array(sensors).shape, np.array(sensors[0]).shape, np.array(sensors[0][0]).shape, np.array(sensors)[:,0].shape\n",
    "\n",
    "len(np.array(sensors[0][0]))"
   ]
  },
  {
   "attachments": {},
   "cell_type": "markdown",
   "metadata": {},
   "source": [
    "In the stage 1 of the feature engineering, we will build a total of 18 simple statistical features —\n",
    "1. mean\n",
    "2. standard deviation\n",
    "3. average absolute deviation\n",
    "4. minimum value\n",
    "5. maximum value\n",
    "6. difference of maximum and minimum values\n",
    "7. median\n",
    "8. median absolute deviation\n",
    "9. interquartile range\n",
    "10. negative values count\n",
    "11. positive values count\n",
    "12. number of values above mean\n",
    "13. number of peaks\n",
    "14. skewness\n",
    "15. kurtosis\n",
    "16. energy\n",
    "17. average resultant acceleration\n",
    "18. signal magnitude area"
   ]
  },
  {
   "cell_type": "code",
   "execution_count": 77,
   "metadata": {},
   "outputs": [
    {
     "data": {
      "text/html": [
       "<div>\n",
       "<style scoped>\n",
       "    .dataframe tbody tr th:only-of-type {\n",
       "        vertical-align: middle;\n",
       "    }\n",
       "\n",
       "    .dataframe tbody tr th {\n",
       "        vertical-align: top;\n",
       "    }\n",
       "\n",
       "    .dataframe thead th {\n",
       "        text-align: right;\n",
       "    }\n",
       "</style>\n",
       "<table border=\"1\" class=\"dataframe\">\n",
       "  <thead>\n",
       "    <tr style=\"text-align: right;\">\n",
       "      <th></th>\n",
       "      <th>Sensor1_mean</th>\n",
       "      <th>Sensor2_mean</th>\n",
       "      <th>Sensor3_mean</th>\n",
       "      <th>Sensor4_mean</th>\n",
       "      <th>Sensor1_std</th>\n",
       "      <th>Sensor2_std</th>\n",
       "      <th>Sensor3_std</th>\n",
       "      <th>Sensor4_std</th>\n",
       "      <th>Sensor1_aad</th>\n",
       "      <th>Sensor2_aad</th>\n",
       "      <th>...</th>\n",
       "      <th>Sensor1_kurtosis</th>\n",
       "      <th>Sensor2_kurtosis</th>\n",
       "      <th>Sensor3_kurtosis</th>\n",
       "      <th>Sensor4_kurtosis</th>\n",
       "      <th>Sensor1_energy</th>\n",
       "      <th>Sensor2_energy</th>\n",
       "      <th>Sensor3_energy</th>\n",
       "      <th>Sensor4_energy</th>\n",
       "      <th>avg_result_signal</th>\n",
       "      <th>sma</th>\n",
       "    </tr>\n",
       "  </thead>\n",
       "  <tbody>\n",
       "    <tr>\n",
       "      <th>0</th>\n",
       "      <td>-0.003844</td>\n",
       "      <td>2.670774e-07</td>\n",
       "      <td>0.000253</td>\n",
       "      <td>0.000008</td>\n",
       "      <td>1.758534</td>\n",
       "      <td>0.003471</td>\n",
       "      <td>0.058952</td>\n",
       "      <td>0.004317</td>\n",
       "      <td>0.279369</td>\n",
       "      <td>0.002336</td>\n",
       "      <td>...</td>\n",
       "      <td>60.438318</td>\n",
       "      <td>1.693651</td>\n",
       "      <td>28.917020</td>\n",
       "      <td>0.483717</td>\n",
       "      <td>3.092456</td>\n",
       "      <td>0.000012</td>\n",
       "      <td>0.003475</td>\n",
       "      <td>0.000019</td>\n",
       "      <td>0.296509</td>\n",
       "      <td>0.303280</td>\n",
       "    </tr>\n",
       "    <tr>\n",
       "      <th>1</th>\n",
       "      <td>-0.003844</td>\n",
       "      <td>7.436608e-07</td>\n",
       "      <td>0.000255</td>\n",
       "      <td>0.000005</td>\n",
       "      <td>1.758534</td>\n",
       "      <td>0.005032</td>\n",
       "      <td>0.059292</td>\n",
       "      <td>0.007437</td>\n",
       "      <td>0.279369</td>\n",
       "      <td>0.003270</td>\n",
       "      <td>...</td>\n",
       "      <td>60.438318</td>\n",
       "      <td>2.695856</td>\n",
       "      <td>28.281317</td>\n",
       "      <td>1.476637</td>\n",
       "      <td>3.092456</td>\n",
       "      <td>0.000025</td>\n",
       "      <td>0.003516</td>\n",
       "      <td>0.000055</td>\n",
       "      <td>0.298537</td>\n",
       "      <td>0.306522</td>\n",
       "    </tr>\n",
       "  </tbody>\n",
       "</table>\n",
       "<p>2 rows × 66 columns</p>\n",
       "</div>"
      ],
      "text/plain": [
       "   Sensor1_mean  Sensor2_mean  Sensor3_mean  Sensor4_mean  Sensor1_std  \\\n",
       "0     -0.003844  2.670774e-07      0.000253      0.000008     1.758534   \n",
       "1     -0.003844  7.436608e-07      0.000255      0.000005     1.758534   \n",
       "\n",
       "   Sensor2_std  Sensor3_std  Sensor4_std  Sensor1_aad  Sensor2_aad  ...  \\\n",
       "0     0.003471     0.058952     0.004317     0.279369     0.002336  ...   \n",
       "1     0.005032     0.059292     0.007437     0.279369     0.003270  ...   \n",
       "\n",
       "   Sensor1_kurtosis  Sensor2_kurtosis  Sensor3_kurtosis  Sensor4_kurtosis  \\\n",
       "0         60.438318          1.693651         28.917020          0.483717   \n",
       "1         60.438318          2.695856         28.281317          1.476637   \n",
       "\n",
       "   Sensor1_energy  Sensor2_energy  Sensor3_energy  Sensor4_energy  \\\n",
       "0        3.092456        0.000012        0.003475        0.000019   \n",
       "1        3.092456        0.000025        0.003516        0.000055   \n",
       "\n",
       "   avg_result_signal       sma  \n",
       "0           0.296509  0.303280  \n",
       "1           0.298537  0.306522  \n",
       "\n",
       "[2 rows x 66 columns]"
      ]
     },
     "execution_count": 77,
     "metadata": {},
     "output_type": "execute_result"
    }
   ],
   "source": [
    "X"
   ]
  },
  {
   "cell_type": "code",
   "execution_count": 76,
   "metadata": {},
   "outputs": [],
   "source": [
    "X = pd.DataFrame()\n",
    "\n",
    "sensor1_list = list(np.array(sensors)[:,0])\n",
    "sensor2_list = list(np.array(sensors)[:,1])\n",
    "sensor3_list = list(np.array(sensors)[:,2])\n",
    "sensor4_list = list(np.array(sensors)[:,3])\n",
    "\n",
    "\n",
    "# mean\n",
    "X['Sensor1_mean'] = pd.Series(sensor1_list).apply(lambda x: x.mean())\n",
    "X['Sensor2_mean'] = pd.Series(sensor2_list).apply(lambda x: x.mean())\n",
    "X['Sensor3_mean'] = pd.Series(sensor3_list).apply(lambda x: x.mean())\n",
    "X['Sensor4_mean'] = pd.Series(sensor4_list).apply(lambda x: x.mean())\n",
    "\n",
    "# std dev\n",
    "X['Sensor1_std'] = pd.Series(sensor1_list).apply(lambda x: x.std())\n",
    "X['Sensor2_std'] = pd.Series(sensor2_list).apply(lambda x: x.std())\n",
    "X['Sensor3_std'] = pd.Series(sensor3_list).apply(lambda x: x.std())\n",
    "X['Sensor4_std'] = pd.Series(sensor4_list).apply(lambda x: x.std())\n",
    "\n",
    "# avg absolute diff\n",
    "X['Sensor1_aad'] = pd.Series(sensor1_list).apply(lambda x: np.mean(np.absolute(x - np.mean(x))))\n",
    "X['Sensor2_aad'] = pd.Series(sensor2_list).apply(lambda x: np.mean(np.absolute(x - np.mean(x))))\n",
    "X['Sensor3_aad'] = pd.Series(sensor3_list).apply(lambda x: np.mean(np.absolute(x - np.mean(x))))\n",
    "X['Sensor4_aad'] = pd.Series(sensor4_list).apply(lambda x: np.mean(np.absolute(x - np.mean(x))))\n",
    "\n",
    "# min\n",
    "X['Sensor1_min'] = pd.Series(sensor1_list).apply(lambda x: x.min())\n",
    "X['Sensor2_min'] = pd.Series(sensor2_list).apply(lambda x: x.min())\n",
    "X['Sensor3_min'] = pd.Series(sensor3_list).apply(lambda x: x.min())\n",
    "X['Sensor4_min'] = pd.Series(sensor4_list).apply(lambda x: x.min())\n",
    "\n",
    "# max\n",
    "X['Sensor1_max'] = pd.Series(sensor1_list).apply(lambda x: x.max())\n",
    "X['Sensor2_max'] = pd.Series(sensor2_list).apply(lambda x: x.max())\n",
    "X['Sensor3_max'] = pd.Series(sensor3_list).apply(lambda x: x.max())\n",
    "X['Sensor4_max'] = pd.Series(sensor4_list).apply(lambda x: x.max())\n",
    "\n",
    "# max-min diff\n",
    "X['Sensor1_maxmin_diff'] = X['Sensor1_max'] - X['Sensor1_min']\n",
    "X['Sensor2_maxmin_diff'] = X['Sensor2_max'] - X['Sensor2_min']\n",
    "X['Sensor3_maxmin_diff'] = X['Sensor3_max'] - X['Sensor3_min']\n",
    "X['Sensor4_maxmin_diff'] = X['Sensor4_max'] - X['Sensor4_min']\n",
    "\n",
    "\n",
    "# median\n",
    "X['Sensor1_median'] = pd.Series(sensor1_list).apply(lambda x: np.median(x))\n",
    "X['Sensor2_median'] = pd.Series(sensor2_list).apply(lambda x: np.median(x))\n",
    "X['Sensor3_median'] = pd.Series(sensor3_list).apply(lambda x: np.median(x))\n",
    "X['Sensor4_median'] = pd.Series(sensor4_list).apply(lambda x: np.median(x))\n",
    "\n",
    "\n",
    "# median abs dev \n",
    "X['Sensor1_mad'] = pd.Series(sensor1_list).apply(lambda x: np.median(np.absolute(x - np.median(x))))\n",
    "X['Sensor2_mad'] = pd.Series(sensor2_list).apply(lambda x: np.median(np.absolute(x - np.median(x))))\n",
    "X['Sensor3_mad'] = pd.Series(sensor3_list).apply(lambda x: np.median(np.absolute(x - np.median(x))))\n",
    "X['Sensor4_mad'] = pd.Series(sensor4_list).apply(lambda x: np.median(np.absolute(x - np.median(x))))\n",
    "\n",
    "\n",
    "# interquartile range\n",
    "X['Sensor1_IQR'] = pd.Series(sensor1_list).apply(lambda x: np.percentile(x, 75) - np.percentile(x, 25))\n",
    "X['Sensor2_IQR'] = pd.Series(sensor2_list).apply(lambda x: np.percentile(x, 75) - np.percentile(x, 25))\n",
    "X['Sensor3_IQR'] = pd.Series(sensor3_list).apply(lambda x: np.percentile(x, 75) - np.percentile(x, 25))\n",
    "X['Sensor4_IQR'] = pd.Series(sensor4_list).apply(lambda x: np.percentile(x, 75) - np.percentile(x, 25))\n",
    "\n",
    "# negative count\n",
    "X['Sensor1_neg_count'] = pd.Series(sensor1_list).apply(lambda x: np.sum(x < 0))\n",
    "X['Sensor2_neg_count'] = pd.Series(sensor2_list).apply(lambda x: np.sum(x < 0))\n",
    "X['Sensor3_neg_count'] = pd.Series(sensor3_list).apply(lambda x: np.sum(x < 0))\n",
    "X['Sensor4_neg_count'] = pd.Series(sensor4_list).apply(lambda x: np.sum(x < 0))\n",
    "\n",
    "\n",
    "# positive count\n",
    "X['Sensor1_pos_count'] = pd.Series(sensor1_list).apply(lambda x: np.sum(x > 0))\n",
    "X['Sensor2_pos_count'] = pd.Series(sensor2_list).apply(lambda x: np.sum(x > 0))\n",
    "X['Sensor3_pos_count'] = pd.Series(sensor3_list).apply(lambda x: np.sum(x > 0))\n",
    "X['Sensor4_pos_count'] = pd.Series(sensor4_list).apply(lambda x: np.sum(x > 0))\n",
    "\n",
    "# values above mean\n",
    "X['Sensor1_above_mean'] = pd.Series(sensor1_list).apply(lambda x: np.sum(x > x.mean()))\n",
    "X['Sensor2_above_mean'] = pd.Series(sensor2_list).apply(lambda x: np.sum(x > x.mean()))\n",
    "X['Sensor3_above_mean'] = pd.Series(sensor3_list).apply(lambda x: np.sum(x > x.mean()))\n",
    "X['Sensor4_above_mean'] = pd.Series(sensor4_list).apply(lambda x: np.sum(x > x.mean()))\n",
    "\n",
    "\n",
    "# number of peaks\n",
    "X['Sensor1_peak_count'] = pd.Series(sensor1_list).apply(lambda x: len(find_peaks(x)[0]))\n",
    "X['Sensor2_peak_count'] = pd.Series(sensor2_list).apply(lambda x: len(find_peaks(x)[0]))\n",
    "X['Sensor3_peak_count'] = pd.Series(sensor3_list).apply(lambda x: len(find_peaks(x)[0]))\n",
    "X['Sensor4_peak_count'] = pd.Series(sensor4_list).apply(lambda x: len(find_peaks(x)[0]))\n",
    "\n",
    "# skewness\n",
    "X['Sensor1_skewness'] = pd.Series(sensor1_list).apply(lambda x: stats.skew(x))\n",
    "X['Sensor2_skewness'] = pd.Series(sensor2_list).apply(lambda x: stats.skew(x))\n",
    "X['Sensor3_skewness'] = pd.Series(sensor3_list).apply(lambda x: stats.skew(x))\n",
    "X['Sensor4_skewness'] = pd.Series(sensor4_list).apply(lambda x: stats.skew(x))\n",
    "\n",
    "\n",
    "# kurtosis\n",
    "X['Sensor1_kurtosis'] = pd.Series(sensor1_list).apply(lambda x: stats.kurtosis(x))\n",
    "X['Sensor2_kurtosis'] = pd.Series(sensor2_list).apply(lambda x: stats.kurtosis(x))\n",
    "X['Sensor3_kurtosis'] = pd.Series(sensor3_list).apply(lambda x: stats.kurtosis(x))\n",
    "X['Sensor4_kurtosis'] = pd.Series(sensor4_list).apply(lambda x: stats.kurtosis(x))\n",
    "\n",
    "signal_length = len(np.array(sensors[0][0]))\n",
    "# energy\n",
    "X['Sensor1_energy'] = pd.Series(sensor1_list).apply(lambda x: np.sum(x**2) / signal_length)\n",
    "X['Sensor2_energy'] = pd.Series(sensor2_list).apply(lambda x: np.sum(x**2) / signal_length)\n",
    "X['Sensor3_energy'] = pd.Series(sensor3_list).apply(lambda x: np.sum(x**2) / signal_length)\n",
    "X['Sensor4_energy'] = pd.Series(sensor4_list).apply(lambda x: np.sum(x**2) / signal_length)\n",
    "\n",
    "\n",
    "# avg resultant\n",
    "X['avg_result_signal'] = [i.mean() for i in ((pd.Series(sensor1_list)**2 + pd.Series(sensor2_list)**2 + pd.Series(sensor3_list)**2 + pd.Series(sensor4_list)**2)**0.5)]\n",
    "\n",
    "# signal magnitude area\n",
    "X['sma'] = pd.Series(sensor1_list).apply(lambda x: np.sum(abs(x)/signal_length)) + pd.Series(sensor2_list).apply(lambda x: np.sum(abs(x)/signal_length)) + pd.Series(sensor3_list).apply(lambda x: np.sum(abs(x)/signal_length)) + pd.Series(sensor4_list).apply(lambda x: np.sum(abs(x)/signal_length))\n",
    "\n"
   ]
  },
  {
   "cell_type": "code",
   "execution_count": 97,
   "metadata": {},
   "outputs": [
    {
     "data": {
      "text/plain": [
       "2"
      ]
     },
     "execution_count": 97,
     "metadata": {},
     "output_type": "execute_result"
    }
   ],
   "source": []
  },
  {
   "cell_type": "code",
   "execution_count": 78,
   "metadata": {},
   "outputs": [],
   "source": [
    "#function to get the fft transform. The outputs (frequency, amplitude) are sorted according to frequency in increasing order.\n",
    "#The amplitude output of the fft is a complex number. The function returns its absolute value (length).\n",
    "\n",
    "def get_FFT_transform( input, duration, N_points ):\n",
    "\n",
    "    sample_rate = float(N_points / duration)\n",
    "\n",
    "    yf = fft(input) # this is a complex number. \n",
    "    xf = fftfreq(N_points, 1 / sample_rate)\n",
    "    #xf = fftfreq(N_points, 1 )\n",
    "\n",
    "\n",
    "    #now we sort xf in increasing order and apply the same ordering on yf.\n",
    "    sorted_xf = np.sort(xf)\n",
    "    sorted_yf = yf[np.argsort(xf)]\n",
    "\n",
    "    return sorted_xf, np.abs(sorted_yf)"
   ]
  },
  {
   "cell_type": "code",
   "execution_count": 81,
   "metadata": {},
   "outputs": [
    {
     "data": {
      "text/plain": [
       "0.00025"
      ]
     },
     "execution_count": 81,
     "metadata": {},
     "output_type": "execute_result"
    }
   ],
   "source": [
    "time[0][len(time[0])-1]-time[0][0]"
   ]
  },
  {
   "cell_type": "code",
   "execution_count": 92,
   "metadata": {},
   "outputs": [
    {
     "data": {
      "text/plain": [
       "2"
      ]
     },
     "execution_count": 92,
     "metadata": {},
     "output_type": "execute_result"
    }
   ],
   "source": [
    "len(sensors)"
   ]
  },
  {
   "cell_type": "code",
   "execution_count": 91,
   "metadata": {},
   "outputs": [
    {
     "data": {
      "text/plain": [
       "<matplotlib.collections.PathCollection at 0x214607195b0>"
      ]
     },
     "execution_count": 91,
     "metadata": {},
     "output_type": "execute_result"
    },
    {
     "data": {
      "image/png": "[encoded data removed]",
      "text/plain": [
       "<Figure size 432x288 with 1 Axes>"
      ]
     },
     "metadata": {
      "needs_background": "light"
     },
     "output_type": "display_data"
    }
   ],
   "source": [
    "duration = time[0][len(time[0])-1]-time[0][0]\n",
    "\n",
    "Sensor1_freq, Sensor1_amp = get_FFT_transform(np.array(sensors[0][0]), duration , signal_length )\n",
    "\n",
    "\n",
    "Sensor1_freq_pos = Sensor1_freq[Sensor1_freq>0] # FFT frequences are completely symmetrical around zero. We want keep only the positive ones.\n",
    "Sensor1_amp_pos  = Sensor1_amp[np.argwhere(Sensor1_freq>0).reshape(-1)]\n",
    "\n",
    "\n",
    "plt.scatter(Sensor1_freq, Sensor1_amp,marker='o', s=10,label='sensor 1')\n",
    "plt.scatter(Sensor1_freq_pos, Sensor1_amp[np.argwhere(Sensor1_freq>0).reshape(-1)], marker='o', s=10,label='sensor 1')\n",
    "\n",
    "\n",
    "#xf_2, yf_2 = get_FFT_transform(np.array(sensors[sim_ID][1]), duration, N_points )\n",
    "#xf_3, yf_3 = get_FFT_transform(np.array(sensors[sim_ID][2]), duration, N_points )\n",
    "#xf_4, yf_4 = get_FFT_transform(np.array(sensors[sim_ID][3]), duration, N_points )"
   ]
  },
  {
   "cell_type": "code",
   "execution_count": 96,
   "metadata": {},
   "outputs": [
    {
     "data": {
      "text/plain": [
       "501"
      ]
     },
     "execution_count": 96,
     "metadata": {},
     "output_type": "execute_result"
    }
   ],
   "source": [
    "len(np.array(sensor1_list[0]))"
   ]
  },
  {
   "cell_type": "code",
   "execution_count": 99,
   "metadata": {},
   "outputs": [
    {
     "data": {
      "text/plain": [
       "4"
      ]
     },
     "execution_count": 99,
     "metadata": {},
     "output_type": "execute_result"
    }
   ],
   "source": [
    "len(sensors[0])"
   ]
  },
  {
   "cell_type": "code",
   "execution_count": 101,
   "metadata": {},
   "outputs": [],
   "source": [
    "\n",
    "sensor1_freq_list = []\n",
    "sensor2_freq_list = []\n",
    "sensor3_freq_list = []\n",
    "sensor4_freq_list = []\n",
    "\n",
    "sensor1_amp_list = []\n",
    "sensor2_amp_list = []\n",
    "sensor3_amp_list = []\n",
    "sensor4_amp_list = []\n",
    "\n",
    "\n",
    "for simID in range(0,len(sensors)):\n",
    "\n",
    "    duration = time[simID][len(time[simID])-1]-time[simID][0]\n",
    "    signal_length = len(np.array(sensor1_list[simID]))\n",
    "\n",
    "    Sensor1_freq, Sensor1_amp = get_FFT_transform(np.array(sensors[simID][0]), duration , signal_length )\n",
    "    Sensor2_freq, Sensor2_amp = get_FFT_transform(np.array(sensors[simID][1]), duration , signal_length )\n",
    "    Sensor3_freq, Sensor3_amp = get_FFT_transform(np.array(sensors[simID][2]), duration , signal_length )\n",
    "    Sensor4_freq, Sensor4_amp = get_FFT_transform(np.array(sensors[simID][3]), duration , signal_length )\n",
    "\n",
    "\n",
    "    # FFT frequences are completely symmetrical around zero. We want keep only the positive ones.\n",
    "    Sensor1_freq = Sensor1_freq[Sensor1_freq>0] \n",
    "    Sensor1_amp  = Sensor1_amp[np.argwhere(Sensor1_freq>0).reshape(-1)]\n",
    "\n",
    "    Sensor2_freq = Sensor2_freq[Sensor2_freq>0] \n",
    "    Sensor2_amp  = Sensor2_amp[np.argwhere(Sensor2_freq>0).reshape(-1)]\n",
    "\n",
    "    Sensor3_freq = Sensor3_freq[Sensor3_freq>0] \n",
    "    Sensor3_amp  = Sensor3_amp[np.argwhere(Sensor3_freq>0).reshape(-1)]\n",
    "\n",
    "    Sensor4_freq = Sensor4_freq[Sensor4_freq>0] \n",
    "    Sensor4_amp  = Sensor4_amp[np.argwhere(Sensor4_freq>0).reshape(-1)]\n",
    "\n",
    "\n",
    "    # Append the amplitudes and frequences into corresponding lists.\n",
    "    sensor1_freq_list.append(Sensor1_freq)\n",
    "    sensor1_amp_list.append(Sensor1_amp)\n",
    "\n",
    "    sensor2_freq_list.append(Sensor2_freq)\n",
    "    sensor2_amp_list.append(Sensor2_amp)\n",
    "\n",
    "    sensor3_freq_list.append(Sensor3_freq)\n",
    "    sensor3_amp_list.append(Sensor3_amp)\n",
    "\n",
    "    sensor4_freq_list.append(Sensor4_freq)\n",
    "    sensor4_amp_list.append(Sensor4_amp)\n",
    "\n",
    "\n",
    "    \n"
   ]
  },
  {
   "cell_type": "code",
   "execution_count": 109,
   "metadata": {},
   "outputs": [
    {
     "data": {
      "text/plain": [
       "[<matplotlib.lines.Line2D at 0x21460423130>]"
      ]
     },
     "execution_count": 109,
     "metadata": {},
     "output_type": "execute_result"
    },
    {
     "data": {
      "image/png": "[encoded data removed]",
      "text/plain": [
       "<Figure size 432x288 with 1 Axes>"
      ]
     },
     "metadata": {
      "needs_background": "light"
     },
     "output_type": "display_data"
    }
   ],
   "source": [
    "plt.plot(sensor4_freq_list[0],sensor4_amp_list[0])"
   ]
  }
 ],
 "metadata": {
  "kernelspec": {
   "display_name": "imPure",
   "language": "python",
   "name": "python3"
  },
  "language_info": {
   "codemirror_mode": {
    "name": "ipython",
    "version": 3
   },
   "file_extension": ".py",
   "mimetype": "text/x-python",
   "name": "python",
   "nbconvert_exporter": "python",
   "pygments_lexer": "ipython3",
   "version": "3.9.0"
  },
  "orig_nbformat": 4,
  "vscode": {
   "interpreter": {
    "hash": "a02ca117b21243f7b5594d25e73aec08b47b152a0cc20a913419a0ac0449b5fd"
   }
  }
 },
 "nbformat": 4,
 "nbformat_minor": 2
}
